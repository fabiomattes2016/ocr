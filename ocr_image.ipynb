{
 "cells": [
  {
   "cell_type": "code",
   "execution_count": 728,
   "metadata": {},
   "outputs": [],
   "source": [
    "import pytesseract\n",
    "import pandas as pd\n",
    "from PIL import Image, ImageEnhance"
   ]
  },
  {
   "cell_type": "code",
   "execution_count": 729,
   "metadata": {},
   "outputs": [],
   "source": [
    "pytesseract.pytesseract.tesseract_cmd = r'C:\\Users\\fabio_mattes\\AppData\\Local\\Tesseract-OCR\\tesseract.exe'"
   ]
  },
  {
   "cell_type": "code",
   "execution_count": 730,
   "metadata": {},
   "outputs": [],
   "source": [
    "image = Image.open('image.jpg')\n",
    "image = image.convert('L')\n",
    "enhancer = ImageEnhance.Contrast(image)\n",
    "image = enhancer.enhance(2)\n",
    "\n",
    "image.save('realcada.png')\n",
    "\n",
    "image = Image.open('realcada.png')\n",
    "\n",
    "# esquerda, superior, direita, inferior\n",
    "retangulo_nome = (275, 290, 1080, 350)\n",
    "imagem_cortada_nome = image.crop(retangulo_nome)\n",
    "\n",
    "imagem_cortada_nome.show()"
   ]
  },
  {
   "cell_type": "code",
   "execution_count": 731,
   "metadata": {},
   "outputs": [],
   "source": [
    "data = pytesseract.image_to_string(imagem_cortada_nome, output_type = pytesseract.Output.DICT)\n",
    "# df = pd.DataFrame(data)"
   ]
  },
  {
   "cell_type": "code",
   "execution_count": 732,
   "metadata": {},
   "outputs": [
    {
     "name": "stdout",
     "output_type": "stream",
     "text": [
      "FABIO JESUS DA SILVA MATTES\n",
      "\n"
     ]
    }
   ],
   "source": [
    "# df\n",
    "print(data['text'])"
   ]
  }
 ],
 "metadata": {
  "kernelspec": {
   "display_name": "ocr-I-OAPsOI-py3.12",
   "language": "python",
   "name": "python3"
  },
  "language_info": {
   "codemirror_mode": {
    "name": "ipython",
    "version": 3
   },
   "file_extension": ".py",
   "mimetype": "text/x-python",
   "name": "python",
   "nbconvert_exporter": "python",
   "pygments_lexer": "ipython3",
   "version": "3.12.6"
  }
 },
 "nbformat": 4,
 "nbformat_minor": 2
}
