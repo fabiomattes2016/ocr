{
 "cells": [
  {
   "cell_type": "code",
   "execution_count": 120,
   "metadata": {},
   "outputs": [],
   "source": [
    "import easyocr\n",
    "import pytesseract\n",
    "import pandas as pd\n",
    "from PIL import Image, ImageEnhance"
   ]
  },
  {
   "cell_type": "code",
   "execution_count": 121,
   "metadata": {},
   "outputs": [],
   "source": [
    "pytesseract.pytesseract.tesseract_cmd = r'C:\\Users\\fabio_mattes\\AppData\\Local\\Tesseract-OCR\\tesseract.exe'"
   ]
  },
  {
   "cell_type": "code",
   "execution_count": 122,
   "metadata": {},
   "outputs": [],
   "source": [
    "image = Image.open('image.png')\n",
    "image = image.convert('L')\n",
    "enhancer = ImageEnhance.Contrast(image)\n",
    "image = enhancer.enhance(2.5)\n",
    "\n",
    "image.save('realcada.png')"
   ]
  },
  {
   "cell_type": "code",
   "execution_count": 123,
   "metadata": {},
   "outputs": [
    {
     "name": "stderr",
     "output_type": "stream",
     "text": [
      "Neither CUDA nor MPS are available - defaulting to CPU. Note: This module is much faster with a GPU.\n"
     ]
    }
   ],
   "source": [
    "leitor = easyocr.Reader(['pt'])"
   ]
  },
  {
   "cell_type": "code",
   "execution_count": 124,
   "metadata": {},
   "outputs": [],
   "source": [
    "resultado = leitor.readtext('realcada.png')"
   ]
  },
  {
   "cell_type": "code",
   "execution_count": 125,
   "metadata": {},
   "outputs": [
    {
     "data": {
      "text/html": [
       "<div>\n",
       "<style scoped>\n",
       "    .dataframe tbody tr th:only-of-type {\n",
       "        vertical-align: middle;\n",
       "    }\n",
       "\n",
       "    .dataframe tbody tr th {\n",
       "        vertical-align: top;\n",
       "    }\n",
       "\n",
       "    .dataframe thead th {\n",
       "        text-align: right;\n",
       "    }\n",
       "</style>\n",
       "<table border=\"1\" class=\"dataframe\">\n",
       "  <thead>\n",
       "    <tr style=\"text-align: right;\">\n",
       "      <th></th>\n",
       "      <th>0</th>\n",
       "      <th>1</th>\n",
       "      <th>2</th>\n",
       "    </tr>\n",
       "  </thead>\n",
       "  <tbody>\n",
       "    <tr>\n",
       "      <th>0</th>\n",
       "      <td>[[12, 6], [38, 6], [38, 32], [12, 32]]</td>\n",
       "      <td>#14</td>\n",
       "      <td>0.998863</td>\n",
       "    </tr>\n",
       "    <tr>\n",
       "      <th>1</th>\n",
       "      <td>[[89, 11], [171, 11], [171, 25], [89, 25]]</td>\n",
       "      <td>API Hub Token</td>\n",
       "      <td>0.996591</td>\n",
       "    </tr>\n",
       "    <tr>\n",
       "      <th>2</th>\n",
       "      <td>[[401, 11], [467, 11], [467, 25], [401, 25]]</td>\n",
       "      <td>Gerar Token</td>\n",
       "      <td>0.961947</td>\n",
       "    </tr>\n",
       "    <tr>\n",
       "      <th>3</th>\n",
       "      <td>[[89, 41], [191, 41], [191, 55], [89, 55]]</td>\n",
       "      <td>APIHub Restritivos</td>\n",
       "      <td>0.944537</td>\n",
       "    </tr>\n",
       "    <tr>\n",
       "      <th>4</th>\n",
       "      <td>[[401, 41], [523, 41], [523, 55], [401, 55]]</td>\n",
       "      <td>PJ Restritivos Corrente</td>\n",
       "      <td>0.904903</td>\n",
       "    </tr>\n",
       "    <tr>\n",
       "      <th>...</th>\n",
       "      <td>...</td>\n",
       "      <td>...</td>\n",
       "      <td>...</td>\n",
       "    </tr>\n",
       "    <tr>\n",
       "      <th>71</th>\n",
       "      <td>[[495, 583], [583, 583], [583, 599], [495, 599]]</td>\n",
       "      <td>Procurador CPF</td>\n",
       "      <td>0.998602</td>\n",
       "    </tr>\n",
       "    <tr>\n",
       "      <th>72</th>\n",
       "      <td>[[17, 615], [39, 615], [39, 629], [17, 629]]</td>\n",
       "      <td>#35</td>\n",
       "      <td>0.950771</td>\n",
       "    </tr>\n",
       "    <tr>\n",
       "      <th>73</th>\n",
       "      <td>[[89, 615], [191, 615], [191, 629], [89, 629]]</td>\n",
       "      <td>APIHub Restritivos</td>\n",
       "      <td>0.952931</td>\n",
       "    </tr>\n",
       "    <tr>\n",
       "      <th>74</th>\n",
       "      <td>[[401, 615], [475, 615], [475, 629], [401, 629]]</td>\n",
       "      <td>PJ Restritivos</td>\n",
       "      <td>0.939361</td>\n",
       "    </tr>\n",
       "    <tr>\n",
       "      <th>75</th>\n",
       "      <td>[[481, 615], [583, 615], [583, 629], [481, 629]]</td>\n",
       "      <td>5ª Procurador CPF</td>\n",
       "      <td>0.898305</td>\n",
       "    </tr>\n",
       "  </tbody>\n",
       "</table>\n",
       "<p>76 rows × 3 columns</p>\n",
       "</div>"
      ],
      "text/plain": [
       "                                                   0                        1  \\\n",
       "0             [[12, 6], [38, 6], [38, 32], [12, 32]]                      #14   \n",
       "1         [[89, 11], [171, 11], [171, 25], [89, 25]]            API Hub Token   \n",
       "2       [[401, 11], [467, 11], [467, 25], [401, 25]]              Gerar Token   \n",
       "3         [[89, 41], [191, 41], [191, 55], [89, 55]]       APIHub Restritivos   \n",
       "4       [[401, 41], [523, 41], [523, 55], [401, 55]]  PJ Restritivos Corrente   \n",
       "..                                               ...                      ...   \n",
       "71  [[495, 583], [583, 583], [583, 599], [495, 599]]           Procurador CPF   \n",
       "72      [[17, 615], [39, 615], [39, 629], [17, 629]]                      #35   \n",
       "73    [[89, 615], [191, 615], [191, 629], [89, 629]]       APIHub Restritivos   \n",
       "74  [[401, 615], [475, 615], [475, 629], [401, 629]]           PJ Restritivos   \n",
       "75  [[481, 615], [583, 615], [583, 629], [481, 629]]        5ª Procurador CPF   \n",
       "\n",
       "           2  \n",
       "0   0.998863  \n",
       "1   0.996591  \n",
       "2   0.961947  \n",
       "3   0.944537  \n",
       "4   0.904903  \n",
       "..       ...  \n",
       "71  0.998602  \n",
       "72  0.950771  \n",
       "73  0.952931  \n",
       "74  0.939361  \n",
       "75  0.898305  \n",
       "\n",
       "[76 rows x 3 columns]"
      ]
     },
     "execution_count": 125,
     "metadata": {},
     "output_type": "execute_result"
    }
   ],
   "source": [
    "df = pd.DataFrame(resultado)\n",
    "df"
   ]
  },
  {
   "cell_type": "code",
   "execution_count": 126,
   "metadata": {},
   "outputs": [
    {
     "name": "stdout",
     "output_type": "stream",
     "text": [
      "Achou\n"
     ]
    }
   ],
   "source": [
    "\n",
    "is_valid = df.isin(['API Hub Token']).any().any()\n",
    "\n",
    "if is_valid:\n",
    "    print(\"Achou\")\n",
    "else:\n",
    "    print(\"Não existe\")"
   ]
  }
 ],
 "metadata": {
  "kernelspec": {
   "display_name": "ocr-I-OAPsOI-py3.12",
   "language": "python",
   "name": "python3"
  },
  "language_info": {
   "codemirror_mode": {
    "name": "ipython",
    "version": 3
   },
   "file_extension": ".py",
   "mimetype": "text/x-python",
   "name": "python",
   "nbconvert_exporter": "python",
   "pygments_lexer": "ipython3",
   "version": "3.12.6"
  }
 },
 "nbformat": 4,
 "nbformat_minor": 2
}
